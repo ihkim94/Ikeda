{
 "cells": [
  {
   "cell_type": "markdown",
   "metadata": {},
   "source": [
    "# Ikeda-based nonlinear delayed dynamics for application to secure optical transmission systems using chaos\n",
    "References: \n",
    "\n",
    "[Ikeda-based nonlinear delayed dynamics for application to secure optical transmission systems using chaos, L. Larger, C.R. Physique 5 (2004)](https://www.sciencedirect.com/science/article/pii/S1631070504001045)\n",
    "\n",
    "[Optoelectronic oscillators with time-delayed feedback, L. Larger et al., Rev. Mod. Phys. 91, 035006 (2019)](https://journals.aps.org/rmp/abstract/10.1103/RevModPhys.91.035006)\n",
    "\n",
    "[Using Synchronization for Prediction of High-Dimensional Chaotic Dynamics, R. Roy et al., Phys. Rev. Lett. 101, 154102 (2008)](https://journals.aps.org/prl/abstract/10.1103/PhysRevLett.101.154102) ${\\rightarrow}$ Professor likes this paper\n",
    "\n",
    "William's Lecture note\n",
    "\n",
    "Feliciano's Lecture note\n",
    "\n",
    "----\n",
    "## 1. Introduction\n",
    "\n",
    "We are going to explore a nonlinear delayed differential equations (NLDDEs) using python. NLDDEs is an important dynamical system because it can generate a highly chaotic dynamical system for encryption and .... \n",
    "\n",
    "## 2. Experimental Motivation\n",
    "\n",
    "As a physicist, it is always wise to start \n",
    "It would be best if you can add the experimental motivation that why people are interested in this time delayed system and the actual implementation.\n",
    "\n",
    "\n",
    "## 3. Theory\n",
    "Nonlinear delay differential dynamics exhibit extremely complex chaotic behavior (with arbitrarily high attractor dimension), with a simple first order scalr differential equation,\n",
    "\n",
    "$$\n",
    "y(t) + {\\tau}\\frac{dy(t)}{dt} = {\\beta}f[y(t-{\\tau}_R)].\n",
    "$$\n",
    "\n",
    "+ The left hand side is a stable linear first order dynamics, with a response time ${\\tau}$; its role is only to limit the fastest oscillations time scale.\n",
    "+ The function $f[...]$ at the right hand side contains a nonlinear function applied to the delayed dynamical variable $y(t-{\\tau}_R)$.\n",
    "+ The delay forces the dynamical phase space to be infinite dimensional: instead of a single initial condition, the system requires an infinite number of values\n",
    "+ ${\\beta}$ is a weight of the nonlinear delayed feedback, usually considered as the bifurcation parameter.\n",
    "+ The nonlinear function, $f[...]$ can be approximated by a polynomial function of order N: for example, when $N=2$, the dynamical system is the well known logistic map.\n",
    "+ The nonlinear transformation, and the delay are the key element to generate a high dimensional chaotic process. \n",
    "\n",
    "### 1) Adiabatic case in the case of large delays (${\\tau}_R > {\\tau} {\\approx} 0$): why the nonlinear function?\n",
    "Then the dynamical system is reduced to $y_{n+1} = {\\beta}f(y_{n})$. The feedback is then equivalent to an iteration process, returing the vertical axis value $y_{n+1}$ onto the horizontal axis. This feedback operation can be represented graphically with the first bisector straightline, which intersects the nonlinear function at the steady state value (defined as the solution of $y_{s} = {\\beta}f(y_{s})$). This state is stable if the absolute value of the slope $f'(y_{s})$ is lower than 1, otherwise it is unstable. This is why ${\\beta}$ is considered as a bifurcation parameter of the system. When incresing ${\\beta}$, the steady state loses their stability and periodic regimes are oberseved. If you increase it more, then the high complexity chaotic regimes are observed.\n",
    "\n",
    "When $N = 2$, parabolic case (logistic map), it has been shown that a limited complexity only can be obtained for the large ${\\beta}$ value. That is why the Ikeda model with its multiple extrema nonlinear function is a good candidate for the chaos generation.\n",
    "\n",
    "\n",
    "### 2) Non-zero response time ${\\tau}$: better chaos by a non-zero response time ${\\tau}$ and the system is no longer discrete\n",
    "The dynamics is no longer a discrete mapping, it has to fluctuate continuously in time. Also, the dimension of the phase space increases from 1 to infinity. The Lyapunov dimension is in the linear dependence with the ratio ${\\tau_R}/{\\tau}$ and ${\\beta}$.\n",
    "\n",
    "In conclusion, Ikeda-based dynamics must involve a nonlinear function ${f(y)}$ with a high number of extrema (typically $N > 5$) with the appropriate ${\\tau_R}/{\\tau}$ ratio.\n",
    "\n",
    "----\n",
    "----\n",
    "\n",
    "# Future works\n",
    "\n",
    "1. Make a superclass, and implement all the analysis tools including the plots.\n",
    "2. In the subclass, I can implement the logistic maps, ikeda maps, and other high order polynomials.\n",
    "3. For the polynomials, we can do the taylor expansion and slowly increase the number $N$ and see what happens/make a plot to compare it directly.\n",
    "4. Compare the continuous case and the discretized case.\n",
    "\n",
    "---\n",
    "---"
   ]
  },
  {
   "cell_type": "markdown",
   "metadata": {},
   "source": []
  }
 ],
 "metadata": {
  "kernelspec": {
   "display_name": "Python 3.9.6 64-bit",
   "language": "python",
   "name": "python3"
  },
  "language_info": {
   "name": "python",
   "version": "3.9.6"
  },
  "orig_nbformat": 4,
  "vscode": {
   "interpreter": {
    "hash": "31f2aee4e71d21fbe5cf8b01ff0e069b9275f58929596ceb00d14d90e3e16cd6"
   }
  }
 },
 "nbformat": 4,
 "nbformat_minor": 2
}
