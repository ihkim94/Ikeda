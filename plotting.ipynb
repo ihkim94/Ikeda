{
 "cells": [
  {
   "cell_type": "code",
   "execution_count": null,
   "metadata": {},
   "outputs": [],
   "source": [
    "import numpy as np\n",
    "import matplotlib.pyplot as plt\n",
    "\n"
   ]
  }
 ],
 "metadata": {
  "kernelspec": {
   "display_name": "Python 3.9.5",
   "language": "python",
   "name": "python3"
  },
  "language_info": {
   "name": "python",
   "version": "3.9.5"
  },
  "orig_nbformat": 4,
  "vscode": {
   "interpreter": {
    "hash": "93e63c5c8496bdc355c5fd4579fd61566c3a7c925902cbc0a39a2af7f7b5fe83"
   }
  }
 },
 "nbformat": 4,
 "nbformat_minor": 2
}
